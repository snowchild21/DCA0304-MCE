{
 "cells": [
  {
   "cell_type": "markdown",
   "id": "a1b368c9",
   "metadata": {},
   "source": [
    "Primeiro passo: Passar a tabela para python usando dicionário"
   ]
  },
  {
   "cell_type": "code",
   "execution_count": 174,
   "id": "d47e1c22",
   "metadata": {},
   "outputs": [],
   "source": [
    "import pandas as pd\n",
    "import matplotlib.pyplot as plt\n",
    "import numpy as np"
   ]
  },
  {
   "cell_type": "code",
   "execution_count": 193,
   "id": "7b2f039f",
   "metadata": {},
   "outputs": [
    {
     "data": {
      "text/html": [
       "<div>\n",
       "<style scoped>\n",
       "    .dataframe tbody tr th:only-of-type {\n",
       "        vertical-align: middle;\n",
       "    }\n",
       "\n",
       "    .dataframe tbody tr th {\n",
       "        vertical-align: top;\n",
       "    }\n",
       "\n",
       "    .dataframe thead th {\n",
       "        text-align: right;\n",
       "    }\n",
       "</style>\n",
       "<table border=\"1\" class=\"dataframe\">\n",
       "  <thead>\n",
       "    <tr style=\"text-align: right;\">\n",
       "      <th></th>\n",
       "      <th>Item</th>\n",
       "      <th>alpha_ij</th>\n",
       "      <th>Qij_alpha</th>\n",
       "      <th>alpha_ij_rad</th>\n",
       "    </tr>\n",
       "  </thead>\n",
       "  <tbody>\n",
       "    <tr>\n",
       "      <th>0</th>\n",
       "      <td>1</td>\n",
       "      <td>90.0000</td>\n",
       "      <td>20.0000</td>\n",
       "      <td>1.570796</td>\n",
       "    </tr>\n",
       "    <tr>\n",
       "      <th>1</th>\n",
       "      <td>2</td>\n",
       "      <td>94.7368</td>\n",
       "      <td>21.0502</td>\n",
       "      <td>1.653469</td>\n",
       "    </tr>\n",
       "    <tr>\n",
       "      <th>2</th>\n",
       "      <td>3</td>\n",
       "      <td>99.4737</td>\n",
       "      <td>22.0862</td>\n",
       "      <td>1.736144</td>\n",
       "    </tr>\n",
       "    <tr>\n",
       "      <th>3</th>\n",
       "      <td>4</td>\n",
       "      <td>104.2105</td>\n",
       "      <td>23.0939</td>\n",
       "      <td>1.818816</td>\n",
       "    </tr>\n",
       "    <tr>\n",
       "      <th>4</th>\n",
       "      <td>5</td>\n",
       "      <td>108.9474</td>\n",
       "      <td>24.0604</td>\n",
       "      <td>1.901491</td>\n",
       "    </tr>\n",
       "    <tr>\n",
       "      <th>5</th>\n",
       "      <td>6</td>\n",
       "      <td>113.6842</td>\n",
       "      <td>24.9735</td>\n",
       "      <td>1.984164</td>\n",
       "    </tr>\n",
       "    <tr>\n",
       "      <th>6</th>\n",
       "      <td>7</td>\n",
       "      <td>118.4211</td>\n",
       "      <td>25.8227</td>\n",
       "      <td>2.066838</td>\n",
       "    </tr>\n",
       "    <tr>\n",
       "      <th>7</th>\n",
       "      <td>8</td>\n",
       "      <td>123.1579</td>\n",
       "      <td>26.5992</td>\n",
       "      <td>2.149511</td>\n",
       "    </tr>\n",
       "    <tr>\n",
       "      <th>8</th>\n",
       "      <td>9</td>\n",
       "      <td>127.8947</td>\n",
       "      <td>27.2962</td>\n",
       "      <td>2.232184</td>\n",
       "    </tr>\n",
       "    <tr>\n",
       "      <th>9</th>\n",
       "      <td>10</td>\n",
       "      <td>132.6316</td>\n",
       "      <td>27.9091</td>\n",
       "      <td>2.314858</td>\n",
       "    </tr>\n",
       "    <tr>\n",
       "      <th>10</th>\n",
       "      <td>11</td>\n",
       "      <td>137.3684</td>\n",
       "      <td>28.4354</td>\n",
       "      <td>2.397531</td>\n",
       "    </tr>\n",
       "    <tr>\n",
       "      <th>11</th>\n",
       "      <td>12</td>\n",
       "      <td>142.1053</td>\n",
       "      <td>28.8752</td>\n",
       "      <td>2.480205</td>\n",
       "    </tr>\n",
       "    <tr>\n",
       "      <th>12</th>\n",
       "      <td>13</td>\n",
       "      <td>146.8421</td>\n",
       "      <td>29.2308</td>\n",
       "      <td>2.562878</td>\n",
       "    </tr>\n",
       "    <tr>\n",
       "      <th>13</th>\n",
       "      <td>14</td>\n",
       "      <td>151.5790</td>\n",
       "      <td>29.5069</td>\n",
       "      <td>2.645553</td>\n",
       "    </tr>\n",
       "    <tr>\n",
       "      <th>14</th>\n",
       "      <td>15</td>\n",
       "      <td>156.3158</td>\n",
       "      <td>29.7103</td>\n",
       "      <td>2.728225</td>\n",
       "    </tr>\n",
       "    <tr>\n",
       "      <th>15</th>\n",
       "      <td>16</td>\n",
       "      <td>161.0526</td>\n",
       "      <td>29.8498</td>\n",
       "      <td>2.810898</td>\n",
       "    </tr>\n",
       "    <tr>\n",
       "      <th>16</th>\n",
       "      <td>17</td>\n",
       "      <td>165.7895</td>\n",
       "      <td>29.9360</td>\n",
       "      <td>2.893573</td>\n",
       "    </tr>\n",
       "    <tr>\n",
       "      <th>17</th>\n",
       "      <td>18</td>\n",
       "      <td>170.5263</td>\n",
       "      <td>29.9809</td>\n",
       "      <td>2.976245</td>\n",
       "    </tr>\n",
       "    <tr>\n",
       "      <th>18</th>\n",
       "      <td>19</td>\n",
       "      <td>175.2632</td>\n",
       "      <td>29.9976</td>\n",
       "      <td>3.058920</td>\n",
       "    </tr>\n",
       "    <tr>\n",
       "      <th>19</th>\n",
       "      <td>20</td>\n",
       "      <td>180.0000</td>\n",
       "      <td>30.0000</td>\n",
       "      <td>3.141593</td>\n",
       "    </tr>\n",
       "  </tbody>\n",
       "</table>\n",
       "</div>"
      ],
      "text/plain": [
       "    Item  alpha_ij  Qij_alpha  alpha_ij_rad\n",
       "0      1   90.0000    20.0000      1.570796\n",
       "1      2   94.7368    21.0502      1.653469\n",
       "2      3   99.4737    22.0862      1.736144\n",
       "3      4  104.2105    23.0939      1.818816\n",
       "4      5  108.9474    24.0604      1.901491\n",
       "5      6  113.6842    24.9735      1.984164\n",
       "6      7  118.4211    25.8227      2.066838\n",
       "7      8  123.1579    26.5992      2.149511\n",
       "8      9  127.8947    27.2962      2.232184\n",
       "9     10  132.6316    27.9091      2.314858\n",
       "10    11  137.3684    28.4354      2.397531\n",
       "11    12  142.1053    28.8752      2.480205\n",
       "12    13  146.8421    29.2308      2.562878\n",
       "13    14  151.5790    29.5069      2.645553\n",
       "14    15  156.3158    29.7103      2.728225\n",
       "15    16  161.0526    29.8498      2.810898\n",
       "16    17  165.7895    29.9360      2.893573\n",
       "17    18  170.5263    29.9809      2.976245\n",
       "18    19  175.2632    29.9976      3.058920\n",
       "19    20  180.0000    30.0000      3.141593"
      ]
     },
     "execution_count": 193,
     "metadata": {},
     "output_type": "execute_result"
    }
   ],
   "source": [
    "\n",
    "\n",
    "data = {\n",
    "    \"Item\": list(range(1, 21)),\n",
    "    \"alpha_ij\": [ #Variável independente\n",
    "        90.0000, 94.7368, 99.4737, 104.2105, 108.9474,\n",
    "        113.6842, 118.4211, 123.1579, 127.8947, 132.6316,\n",
    "        137.3684, 142.1053, 146.8421, 151.5790, 156.3158,\n",
    "        161.0526, 165.7895, 170.5263, 175.2632, 180.0000\n",
    "    ],\n",
    "    \"Qij_alpha\": [ #Variável dependente\n",
    "        20.0000, 21.0502, 22.0862, 23.0939, 24.0604,\n",
    "        24.9735, 25.8227, 26.5992, 27.2962, 27.9091,\n",
    "        28.4354, 28.8752, 29.2308, 29.5069, 29.7103,\n",
    "        29.8498, 29.9360, 29.9809, 29.9976, 30.0000\n",
    "    ]\n",
    "}\n",
    "\n",
    "df = pd.DataFrame(data)\n",
    "\n",
    "df[\"alpha_ij_rad\"] = df[\"alpha_ij\"] * np.pi / 180\n",
    "\n",
    "df\n"
   ]
  },
  {
   "cell_type": "markdown",
   "id": "dc2ac67c",
   "metadata": {},
   "source": [
    "Terceiro passo: Sistema de equações"
   ]
  },
  {
   "cell_type": "markdown",
   "id": "4145076d",
   "metadata": {},
   "source": [
    "Grau 2 (Calcular xi^2, xi^3, xi^4)"
   ]
  },
  {
   "cell_type": "code",
   "execution_count": 176,
   "id": "71952418",
   "metadata": {},
   "outputs": [
    {
     "name": "stdout",
     "output_type": "stream",
     "text": [
      "47.123891549176165\n",
      "115.57827216586585\n",
      "293.74371657944613\n",
      "769.6707999536043\n"
     ]
    }
   ],
   "source": [
    "\n",
    "som_alpha_1 = 0\n",
    "som_alpha_2 = 0\n",
    "som_alpha_3 = 0\n",
    "som_alpha_4 = 0\n",
    "\n",
    "for i in df[\"alpha_ij_rad\"]:\n",
    "    som_alpha_1 += i\n",
    "    som_alpha_2 += i**2\n",
    "    som_alpha_3 += i**3\n",
    "    som_alpha_4 += i**4\n",
    "\n",
    "print(som_alpha_1)\n",
    "print(som_alpha_2)\n",
    "print(som_alpha_3)\n",
    "print(som_alpha_4)\n"
   ]
  },
  {
   "cell_type": "code",
   "execution_count": 177,
   "id": "29909ec8",
   "metadata": {},
   "outputs": [
    {
     "name": "stdout",
     "output_type": "stream",
     "text": [
      "538.4142999999999\n",
      "1297.544537694877\n",
      "3243.520729730998\n"
     ]
    }
   ],
   "source": [
    "# Soma de Qij_alpha\n",
    "som_qij = df[\"Qij_alpha\"].sum()\n",
    "\n",
    "# Soma de alpha_ij * Qij_alpha\n",
    "som_alphaij_1_qij = (df[\"alpha_ij_rad\"] * df[\"Qij_alpha\"]).sum()\n",
    "\n",
    "# Soma de (alpha_ij**2) * Qij_alpha\n",
    "som_alphaij_2_qij = ((df[\"alpha_ij_rad\"]**2) * df[\"Qij_alpha\"]).sum()\n",
    "\n",
    "print(som_qij)\n",
    "print(som_alphaij_1_qij)\n",
    "print(som_alphaij_2_qij)"
   ]
  },
  {
   "cell_type": "code",
   "execution_count": null,
   "id": "076bd47c",
   "metadata": {},
   "outputs": [],
   "source": [
    "matriz_A = [\n",
    "    [20, som_alpha_1, som_alpha_2],\n",
    "    [som_alpha_1, som_alpha_2, som_alpha_3],\n",
    "    [som_alpha_2, som_alpha_3, som_alpha_4]\n",
    "]\n",
    "\n",
    "matriz_X = [\n",
    "    [\"a0\"],\n",
    "    [\"a1\"],\n",
    "    [\"a2\"]\n",
    "]\n",
    "\n",
    "matriz_B = [\n",
    "    [som_qij],\n",
    "    [som_alphaij_1_qij],\n",
    "    [som_alphaij_2_qij]\n",
    "]"
   ]
  },
  {
   "cell_type": "code",
   "execution_count": 179,
   "id": "141cab3b",
   "metadata": {},
   "outputs": [],
   "source": [
    "# Função para resolver sistema linear por eliminação de Gauss\n",
    "def eliminacao_gauss(A, B):\n",
    "    n = len(A)\n",
    "\n",
    "    # Transformar em matriz aumentada\n",
    "    for i in range(n):\n",
    "        A[i].append(B[i][0])\n",
    "\n",
    "    # Eliminação\n",
    "    for i in range(n):\n",
    "        # Tornar o pivô = 1\n",
    "        piv = A[i][i]\n",
    "        for j in range(i, n+1):\n",
    "            A[i][j] = A[i][j] / piv\n",
    "\n",
    "        # Zerar abaixo do pivô\n",
    "        for k in range(i+1, n):\n",
    "            fator = A[k][i]\n",
    "            for j in range(i, n+1):\n",
    "                A[k][j] -= fator * A[i][j]\n",
    "\n",
    "    # Substituição regressiva\n",
    "    X = [0] * n\n",
    "    for i in range(n-1, -1, -1):\n",
    "        X[i] = A[i][n]\n",
    "        for j in range(i+1, n):\n",
    "            X[i] -= A[i][j] * X[j]\n",
    "\n",
    "    return X\n",
    "\n"
   ]
  },
  {
   "cell_type": "code",
   "execution_count": 180,
   "id": "622ceb63",
   "metadata": {},
   "outputs": [
    {
     "name": "stdout",
     "output_type": "stream",
     "text": [
      "a0 = -15.898749434069536\n",
      "a1 = 30.988014552616317\n",
      "a2 = -5.224914139171061\n"
     ]
    }
   ],
   "source": [
    "\n",
    "\n",
    "solucao_2 = eliminacao_gauss(matriz_A, matriz_B)\n",
    "print(\"a0 =\", solucao_2[0])\n",
    "print(\"a1 =\", solucao_2[1])\n",
    "print(\"a2 =\", solucao_2[2])"
   ]
  },
  {
   "cell_type": "markdown",
   "id": "66cd21e7",
   "metadata": {},
   "source": [
    "Grau 3 (Adcionar o cálculo de xi^5 e xi^6)"
   ]
  },
  {
   "cell_type": "code",
   "execution_count": 181,
   "id": "879047f4",
   "metadata": {},
   "outputs": [
    {
     "name": "stdout",
     "output_type": "stream",
     "text": [
      "2068.778844744664\n",
      "5678.6560412260715\n"
     ]
    }
   ],
   "source": [
    "som_alpha_5 = 0\n",
    "som_alpha_6 = 0\n",
    "\n",
    "for i in df[\"alpha_ij_rad\"]:\n",
    "\n",
    "    som_alpha_5 += i**5\n",
    "    som_alpha_6 += i**6\n",
    "\n",
    "print(som_alpha_5)\n",
    "print(som_alpha_6)\n"
   ]
  },
  {
   "cell_type": "code",
   "execution_count": 182,
   "id": "cdd9f91c",
   "metadata": {},
   "outputs": [
    {
     "name": "stdout",
     "output_type": "stream",
     "text": [
      "8371.22037520853\n"
     ]
    }
   ],
   "source": [
    "som_alphaij_3_qij = ((df[\"alpha_ij_rad\"]**3) * df[\"Qij_alpha\"]).sum()\n",
    "\n",
    "print(som_alphaij_3_qij)"
   ]
  },
  {
   "cell_type": "code",
   "execution_count": 183,
   "id": "daabe0a8",
   "metadata": {},
   "outputs": [],
   "source": [
    "A = [\n",
    "    [20, som_alpha_1, som_alpha_2, som_alpha_3],\n",
    "    [som_alpha_1, som_alpha_2, som_alpha_3, som_alpha_4],\n",
    "    [som_alpha_2, som_alpha_3, som_alpha_4, som_alpha_5],\n",
    "    [som_alpha_3, som_alpha_4, som_alpha_5, som_alpha_6]\n",
    "]\n",
    "\n",
    "B = [\n",
    "    [som_qij],\n",
    "    [som_alphaij_1_qij],\n",
    "    [som_alphaij_2_qij],\n",
    "    [som_alphaij_3_qij]\n",
    "]"
   ]
  },
  {
   "cell_type": "code",
   "execution_count": 184,
   "id": "086bf3cf",
   "metadata": {},
   "outputs": [
    {
     "name": "stdout",
     "output_type": "stream",
     "text": [
      "a0 =  -15.899607532196047\n",
      "a1 =  30.98916484719569\n",
      "a2 =  -5.225414590065803\n",
      "a3 =  7.07993194978544e-05\n"
     ]
    }
   ],
   "source": [
    "solucao_3 = eliminacao_gauss(A, B)\n",
    "print(\"a0 = \", solucao_3[0])\n",
    "print(\"a1 = \", solucao_3[1])\n",
    "print(\"a2 = \", solucao_3[2])\n",
    "print(\"a3 = \", solucao_3[3])\n"
   ]
  },
  {
   "cell_type": "markdown",
   "id": "d3f3e3c6",
   "metadata": {},
   "source": [
    "Polinômio de grau 2"
   ]
  },
  {
   "cell_type": "code",
   "execution_count": 185,
   "id": "7a9829ce",
   "metadata": {},
   "outputs": [
    {
     "name": "stdout",
     "output_type": "stream",
     "text": [
      "P2(x) =  -15.898749434069536 + 30.988014552616317 x -5.224914139171061 x^2\n"
     ]
    }
   ],
   "source": [
    "print(\"P2(x) = \", solucao_2[0],\"+\" ,solucao_2[1], \"x\", solucao_2[2], \"x^2\")"
   ]
  },
  {
   "cell_type": "markdown",
   "id": "18b61a5e",
   "metadata": {},
   "source": [
    "Polinômio de grau 3"
   ]
  },
  {
   "cell_type": "code",
   "execution_count": 186,
   "id": "c8752bb7",
   "metadata": {},
   "outputs": [
    {
     "name": "stdout",
     "output_type": "stream",
     "text": [
      "P3(x) =  -15.899607532196047 + 30.98916484719569 x -5.225414590065803 x^2 + 7.07993194978544e-05 x^3\n"
     ]
    }
   ],
   "source": [
    "print(\"P3(x) = \", solucao_3[0],\"+\",solucao_3[1], \"x\", solucao_3[2], \"x^2\", \"+\", solucao_3[3],\"x^3\")"
   ]
  },
  {
   "cell_type": "code",
   "execution_count": null,
   "id": "731cce52",
   "metadata": {},
   "outputs": [],
   "source": [
    "\n",
    "def P2(x):\n",
    "    return solucao_2[0] + solucao_2[1]*x + solucao_2[2]*(x**2)\n",
    "\n",
    "def P3(x):\n",
    "    return solucao_3[0] + solucao_3[1]*x + solucao_3[2]*(x**2) + solucao_3[3]*(x**3)\n",
    "\n",
    "\n"
   ]
  },
  {
   "cell_type": "code",
   "execution_count": 188,
   "id": "9795888d",
   "metadata": {},
   "outputs": [
    {
     "name": "stdout",
     "output_type": "stream",
     "text": [
      "Modelo P2:\n",
      " MAE = 0.05517792467015692\n",
      " RMSE = 0.06436635738055885\n",
      " R² = 0.9995990926919869\n",
      "\n",
      "Modelo P3:\n",
      " MAE = 0.05517792466960554\n",
      " RMSE = 0.06436635710624024\n",
      " R² = 0.999599092695404\n"
     ]
    }
   ],
   "source": [
    "# Valores previstos\n",
    "df[\"P2\"] = df[\"alpha_ij_rad\"].apply(P2)\n",
    "df[\"P3\"] = df[\"alpha_ij_rad\"].apply(P3)\n",
    "\n",
    "# Erros\n",
    "df[\"erro_P2\"] = df[\"Qij_alpha\"] - df[\"P2\"]\n",
    "df[\"erro_P3\"] = df[\"Qij_alpha\"] - df[\"P3\"]\n",
    "\n",
    "# Métricas\n",
    "def metrics(y_true, y_pred):\n",
    "    mae = np.mean(np.abs(y_true - y_pred))\n",
    "    mse = np.mean((y_true - y_pred)**2)\n",
    "    rmse = np.sqrt(mse)\n",
    "    ss_res = np.sum((y_true - y_pred)**2)\n",
    "    ss_tot = np.sum((y_true - np.mean(y_true))**2)\n",
    "    r2 = 1 - (ss_res/ss_tot)\n",
    "    return mae, rmse, r2\n",
    "\n",
    "mae2, rmse2, r2_2 = metrics(df[\"Qij_alpha\"], df[\"P2\"])\n",
    "mae3, rmse3, r2_3 = metrics(df[\"Qij_alpha\"], df[\"P3\"])\n",
    "\n",
    "print(\"Modelo P2:\")\n",
    "print(\" MAE =\", mae2)\n",
    "print(\" RMSE =\", rmse2)\n",
    "print(\" R² =\", r2_2)\n",
    "\n",
    "print(\"\\nModelo P3:\")\n",
    "print(\" MAE =\", mae3)\n",
    "print(\" RMSE =\", rmse3)\n",
    "print(\" R² =\", r2_3)"
   ]
  },
  {
   "cell_type": "markdown",
   "id": "1f5dff6c",
   "metadata": {},
   "source": [
    "Calculando as potências reativas fornecidas por fase pelo compensador para\n",
    "os ângulos de disparo alphaij: 180º, 130º, 120º, 115º, 100º e 90º."
   ]
  },
  {
   "cell_type": "code",
   "execution_count": 189,
   "id": "51d02c79",
   "metadata": {},
   "outputs": [
    {
     "data": {
      "text/plain": [
       "[29.88513385048676,\n",
       " 27.51278760759454,\n",
       " 26.083358440807267,\n",
       " 25.24927386763753,\n",
       " 22.269540189023893,\n",
       " 19.88515110402779]"
      ]
     },
     "execution_count": 189,
     "metadata": {},
     "output_type": "execute_result"
    }
   ],
   "source": [
    "Qij = []\n",
    "\n",
    "for alpha in ((180*np.pi/180), (130*np.pi/180), (120*np.pi/180), (115*np.pi/180), (100*np.pi/180), (90*np.pi/180)):\n",
    "    Qij.append(P2(alpha))\n",
    "\n",
    "Qij"
   ]
  },
  {
   "cell_type": "markdown",
   "id": "bd8b7cd1",
   "metadata": {},
   "source": [
    "Plotando gráficos"
   ]
  },
  {
   "cell_type": "code",
   "execution_count": 190,
   "id": "0c5fc0c9",
   "metadata": {},
   "outputs": [
    {
     "data": {
      "image/png": "[encoded data removed]",
      "text/plain": [
       "<Figure size 640x480 with 1 Axes>"
      ]
     },
     "metadata": {},
     "output_type": "display_data"
    }
   ],
   "source": [
    "plt.scatter(df[\"alpha_ij_rad\"], df[\"Qij_alpha\"], color=\"blue\", label=\"Dados\")\n",
    "plt.xlabel(\"α_ij\")\n",
    "plt.ylabel(\"Q_ij(α_ij)\")\n",
    "plt.title(\"Gráfico de Dispersão\")\n",
    "plt.legend()\n",
    "plt.grid(True)\n",
    "plt.show()"
   ]
  },
  {
   "cell_type": "code",
   "execution_count": 191,
   "id": "853a013e",
   "metadata": {},
   "outputs": [
    {
     "data": {
      "image/png": "[encoded data removed]",
      "text/plain": [
       "<Figure size 640x480 with 1 Axes>"
      ]
     },
     "metadata": {},
     "output_type": "display_data"
    }
   ],
   "source": [
    "Qij_polinomio = []\n",
    "\n",
    "for alpha in df[\"alpha_ij_rad\"]:\n",
    "    Qij_polinomio.append(P2(alpha))\n",
    "\n",
    "plt.scatter(df[\"alpha_ij_rad\"], Qij_polinomio, color=\"red\", label=\"Aproximações\")\n",
    "plt.xlabel(\"alpha_ij(Em radianos)\")\n",
    "plt.ylabel(\"Q_ij(alpha_ij)\")\n",
    "plt.title(\"Gráfico de dispersão\")\n",
    "plt.legend()\n",
    "plt.grid(True)\n",
    "plt.show()"
   ]
  },
  {
   "cell_type": "code",
   "execution_count": 192,
   "id": "72860e32",
   "metadata": {},
   "outputs": [
    {
     "data": {
      "image/png": "[encoded data removed]",
      "text/plain": [
       "<Figure size 1000x600 with 1 Axes>"
      ]
     },
     "metadata": {},
     "output_type": "display_data"
    }
   ],
   "source": [
    "plt.figure(figsize=(10,6))\n",
    "\n",
    "# Dados reais\n",
    "plt.scatter(df[\"alpha_ij_rad\"], df[\"Qij_alpha\"], \n",
    "            color=\"blue\", label=\"Dados reais\", s=60, edgecolor='k', alpha=0.8)\n",
    "\n",
    "# Polinômio ajustado\n",
    "plt.plot(df[\"alpha_ij_rad\"], Qij_polinomio, \n",
    "         color=\"red\", label=\"P2 ajustado\", linewidth=2, linestyle='--')\n",
    "\n",
    "# Estilização\n",
    "plt.xlabel(\"α_ij (radianos)\", fontsize=12)\n",
    "plt.ylabel(\"Q_ij(α_ij)\", fontsize=12)\n",
    "plt.title(\"Comparação entre Dados Reais e Regressão Polinomial P2\", fontsize=14, fontweight='bold')\n",
    "plt.legend(fontsize=12)\n",
    "plt.grid(True, linestyle='--', alpha=0.5)\n",
    "plt.xticks(fontsize=11)\n",
    "plt.yticks(fontsize=11)\n",
    "plt.tight_layout()\n",
    "plt.show()"
   ]
  }
 ],
 "metadata": {
  "kernelspec": {
   "display_name": "Python 3",
   "language": "python",
   "name": "python3"
  },
  "language_info": {
   "codemirror_mode": {
    "name": "ipython",
    "version": 3
   },
   "file_extension": ".py",
   "mimetype": "text/x-python",
   "name": "python",
   "nbconvert_exporter": "python",
   "pygments_lexer": "ipython3",
   "version": "3.12.9"
  }
 },
 "nbformat": 4,
 "nbformat_minor": 5
}
